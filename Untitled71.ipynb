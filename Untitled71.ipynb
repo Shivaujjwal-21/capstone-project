{
 "cells": [
  {
   "cell_type": "code",
   "execution_count": 9,
   "id": "50e9bce0",
   "metadata": {},
   "outputs": [
    {
     "name": "stdout",
     "output_type": "stream",
     "text": [
      "131/131 [==============================] - 1491s 11s/step\n",
      "33/33 [==============================] - 373s 11s/step\n",
      "Accuracy: 0.9865900383141762\n",
      "F1 Score: 0.9865754399463799\n"
     ]
    }
   ],
   "source": [
    "import numpy as np\n",
    "import tensorflow as tf\n",
    "from tensorflow.keras.applications import VGG19\n",
    "from tensorflow.keras.applications.vgg19 import preprocess_input\n",
    "from tensorflow.keras.models import Model\n",
    "from sklearn.model_selection import train_test_split\n",
    "from sklearn.preprocessing import LabelEncoder\n",
    "from sklearn.svm import SVC\n",
    "from sklearn.metrics import accuracy_score, f1_score\n",
    "import os\n",
    "\n",
    "def load_images_and_labels(data_dir):\n",
    "    image_paths = []\n",
    "    labels = []\n",
    "\n",
    "    for label in os.listdir(data_dir):\n",
    "        label_dir = os.path.join(data_dir, label)\n",
    "        if os.path.isdir(label_dir):\n",
    "            for image_name in os.listdir(label_dir):\n",
    "                image_path = os.path.join(label_dir, image_name)\n",
    "                image_paths.append(image_path)\n",
    "                labels.append(label)\n",
    "\n",
    "    return image_paths, labels\n",
    "\n",
    "def preprocess_images(image_paths, target_size=(224, 224)):\n",
    "    images = [tf.keras.preprocessing.image.load_img\n",
    "              (image_path, \n",
    "               target_size=target_size) for image_path in image_paths]\n",
    "    images = [tf.keras.preprocessing.image.img_to_array(image) for image in images]\n",
    "    images = np.array([preprocess_input(image) for image in images])\n",
    "    return images\n",
    "\n",
    "def extract_features(feature_extractor, images):\n",
    "    features = feature_extractor.predict(images)\n",
    "    features = features.reshape(features.shape[0], -1)\n",
    "    return features\n",
    "\n",
    "def train_and_evaluate_svm(X_train, y_train, X_test, y_test):\n",
    "    svm = SVC(kernel='linear', C=1)\n",
    "    svm.fit(X_train, y_train)\n",
    "    \n",
    "    y_pred = svm.predict(X_test)\n",
    "    \n",
    "    accuracy = accuracy_score(y_test, y_pred)\n",
    "    f1 = f1_score(y_test, y_pred, average='weighted')\n",
    "    \n",
    "    return accuracy, f1\n",
    "\n",
    "if __name__ == \"__main__\":\n",
    "    data_dir = r\"C:\\Users\\shiva\\chest_xray_14\"\n",
    "    \n",
    "    image_paths, labels = load_images_and_labels(data_dir)\n",
    "    label_encoder = LabelEncoder()\n",
    "    labels = label_encoder.fit_transform(labels)\n",
    "\n",
    "    X_train, X_test, y_train, y_test = train_test_split(image_paths, labels, test_size=0.2, random_state=42)\n",
    "\n",
    "    X_train_preprocessed = preprocess_images(X_train)\n",
    "    X_test_preprocessed = preprocess_images(X_test)\n",
    "\n",
    "    base_model = VGG19(weights='imagenet', include_top=False, input_shape=(224, 224, 3))\n",
    "    feature_extractor = Model(inputs=base_model.input, \n",
    "                              outputs=base_model.get_layer('block5_pool').output)\n",
    "\n",
    "    X_train_features = extract_features(feature_extractor, X_train_preprocessed)\n",
    "    X_test_features = extract_features(feature_extractor, X_test_preprocessed)\n",
    "\n",
    "    accuracy, f1 = train_and_evaluate_svm(X_train_features, y_train, X_test_features, y_test)\n",
    "\n",
    "    print(f\"Accuracy: {accuracy}\")\n",
    "    print(f\"F1 Score: {f1}\")\n"
   ]
  },
  {
   "cell_type": "code",
   "execution_count": 14,
   "id": "674d2639",
   "metadata": {},
   "outputs": [],
   "source": [
    "from sklearn.preprocessing import LabelEncoder\n",
    "from sklearn.svm import SVC\n",
    "from sklearn.metrics import accuracy_score, f1_score\n",
    "import joblib\n",
    "import os"
   ]
  },
  {
   "cell_type": "code",
   "execution_count": 15,
   "id": "3920c4ea",
   "metadata": {},
   "outputs": [
    {
     "ename": "NameError",
     "evalue": "name 'svm' is not defined",
     "output_type": "error",
     "traceback": [
      "\u001b[1;31m---------------------------------------------------------------------------\u001b[0m",
      "\u001b[1;31mNameError\u001b[0m                                 Traceback (most recent call last)",
      "Cell \u001b[1;32mIn[15], line 2\u001b[0m\n\u001b[0;32m      1\u001b[0m svm_model_filename \u001b[38;5;241m=\u001b[39m \u001b[38;5;124m'\u001b[39m\u001b[38;5;124msvm_model.pkl\u001b[39m\u001b[38;5;124m'\u001b[39m\n\u001b[1;32m----> 2\u001b[0m joblib\u001b[38;5;241m.\u001b[39mdump(\u001b[43msvm\u001b[49m, svm_model_filename)\n\u001b[0;32m      4\u001b[0m \u001b[38;5;66;03m# Save the VGG-19 feature extraction model\u001b[39;00m\n\u001b[0;32m      5\u001b[0m vgg19_feature_extractor_filename \u001b[38;5;241m=\u001b[39m \u001b[38;5;124m'\u001b[39m\u001b[38;5;124mvgg19_feature_extractor.h5\u001b[39m\u001b[38;5;124m'\u001b[39m\n",
      "\u001b[1;31mNameError\u001b[0m: name 'svm' is not defined"
     ]
    }
   ],
   "source": [
    "svm_model_filename = 'svm_model.pkl'\n",
    "joblib.dump(svm, svm_model_filename)\n",
    "\n",
    "# Save the VGG-19 feature extraction model\n",
    "vgg19_feature_extractor_filename = 'vgg19_feature_extractor.h5'\n",
    "feature_extractor.save(vgg19_feature_extractor_filename)\n",
    "\n",
    "print(f\"SVM model saved as {svm_model_filename}\")\n",
    "print(f\"VGG-19 feature extraction model saved as {vgg19_feature_extractor_filename}\")"
   ]
  },
  {
   "cell_type": "code",
   "execution_count": 1,
   "id": "2b589783",
   "metadata": {},
   "outputs": [
    {
     "name": "stdout",
     "output_type": "stream",
     "text": [
      "131/131 [==============================] - 1384s 11s/step\n",
      "33/33 [==============================] - 326s 10s/step\n",
      "Accuracy: 0.9865900383141762\n",
      "F1 Score: 0.9865754399463799\n",
      "WARNING:tensorflow:Compiled the loaded model, but the compiled metrics have yet to be built. `model.compile_metrics` will be empty until you train or evaluate the model.\n"
     ]
    },
    {
     "name": "stderr",
     "output_type": "stream",
     "text": [
      "C:\\Users\\shiva\\anaconda3\\lib\\site-packages\\keras\\src\\engine\\training.py:3000: UserWarning: You are saving your model as an HDF5 file via `model.save()`. This file format is considered legacy. We recommend using instead the native Keras format, e.g. `model.save('my_model.keras')`.\n",
      "  saving_api.save_model(\n"
     ]
    },
    {
     "name": "stdout",
     "output_type": "stream",
     "text": [
      "SVM model saved as svm_model.pkl\n",
      "VGG-19 feature extraction model saved as vgg19_feature_extractor.h5\n"
     ]
    }
   ],
   "source": [
    "import numpy as np\n",
    "import tensorflow as tf\n",
    "from tensorflow.keras.applications import VGG19\n",
    "from tensorflow.keras.applications.vgg19 import preprocess_input\n",
    "from tensorflow.keras.models import Model\n",
    "from sklearn.model_selection import train_test_split\n",
    "from sklearn.preprocessing import LabelEncoder\n",
    "from sklearn.svm import SVC\n",
    "from sklearn.metrics import accuracy_score, f1_score\n",
    "import joblib\n",
    "import os\n",
    "\n",
    "# Function to load images and labels\n",
    "def load_images_and_labels(data_dir):\n",
    "    image_paths = []\n",
    "    labels = []\n",
    "\n",
    "    for label in os.listdir(data_dir):\n",
    "        label_dir = os.path.join(data_dir, label)\n",
    "        if os.path.isdir(label_dir):\n",
    "            for image_name in os.listdir(label_dir):\n",
    "                image_path = os.path.join(label_dir, image_name)\n",
    "                image_paths.append(image_path)\n",
    "                labels.append(label)\n",
    "\n",
    "    return image_paths, labels\n",
    "\n",
    "# Function to preprocess images\n",
    "def preprocess_images(image_paths, target_size=(224, 224)):\n",
    "    images = [tf.keras.preprocessing.image.load_img(image_path,\n",
    "                                                    target_size=target_size) for image_path in image_paths]\n",
    "    images = [tf.keras.preprocessing.image.img_to_array(image) for image in images]\n",
    "    images = np.array([preprocess_input(image) for image in images])\n",
    "    return images\n",
    "\n",
    "# Function to extract features\n",
    "def extract_features(feature_extractor, images):\n",
    "    features = feature_extractor.predict(images)\n",
    "    features = features.reshape(features.shape[0], -1)\n",
    "    return features\n",
    "\n",
    "# Function to train and evaluate SVM\n",
    "def train_and_evaluate_svm(X_train, y_train, X_test, y_test):\n",
    "    svm = SVC(kernel='linear', C=1)\n",
    "    svm.fit(X_train, y_train)\n",
    "    \n",
    "    y_pred = svm.predict(X_test)\n",
    "    \n",
    "    accuracy = accuracy_score(y_test, y_pred)\n",
    "    f1 = f1_score(y_test, y_pred, average='weighted')\n",
    "    \n",
    "    return svm, accuracy, f1\n",
    "\n",
    "if __name__ == \"__main__\":\n",
    "    data_dir = r\"C:\\Users\\shiva\\chest_xray_14\"\n",
    "    \n",
    "    image_paths, labels = load_images_and_labels(data_dir)\n",
    "    label_encoder = LabelEncoder()\n",
    "    labels = label_encoder.fit_transform(labels)\n",
    "\n",
    "    X_train, X_test, y_train, y_test = train_test_split(image_paths,\n",
    "                                                        labels, test_size=0.2, random_state=42)\n",
    "\n",
    "    X_train_preprocessed = preprocess_images(X_train)\n",
    "    X_test_preprocessed = preprocess_images(X_test)\n",
    "\n",
    "    base_model = VGG19(weights='imagenet', include_top=False, input_shape=(224, 224, 3))\n",
    "    feature_extractor = Model(inputs=base_model.input,\n",
    "                              outputs=base_model.get_layer('block5_pool').output)\n",
    "\n",
    "    X_train_features = extract_features(feature_extractor, X_train_preprocessed)\n",
    "    X_test_features = extract_features(feature_extractor, X_test_preprocessed)\n",
    "\n",
    "    svm_model, accuracy, f1 = train_and_evaluate_svm(X_train_features,\n",
    "                                                     y_train, X_test_features, y_test)\n",
    "\n",
    "    print(f\"Accuracy: {accuracy}\")\n",
    "    print(f\"F1 Score: {f1}\")\n",
    "\n",
    "    # Save the SVM model\n",
    "    svm_model_filename = 'svm_model.pkl'\n",
    "    joblib.dump(svm_model, svm_model_filename)\n",
    "\n",
    "    # Save the VGG-19 feature extraction model\n",
    "    vgg19_feature_extractor_filename = 'vgg19_feature_extractor.h5'\n",
    "    feature_extractor.save(vgg19_feature_extractor_filename)\n",
    "\n",
    "    print(f\"SVM model saved as {svm_model_filename}\")\n",
    "    print(f\"VGG-19 feature extraction model saved as {vgg19_feature_extractor_filename}\")\n"
   ]
  },
  {
   "cell_type": "code",
   "execution_count": 5,
   "id": "eddf9218",
   "metadata": {},
   "outputs": [
    {
     "data": {
      "image/png": "[encoded data removed]",
      "text/plain": [
       "<Figure size 800x400 with 2 Axes>"
      ]
     },
     "metadata": {},
     "output_type": "display_data"
    },
    {
     "name": "stdout",
     "output_type": "stream",
     "text": [
      "131/131 [==============================] - 2134s 16s/step\n",
      "33/33 [==============================] - 524s 16s/step\n"
     ]
    },
    {
     "ename": "NameError",
     "evalue": "name 'train_and_evaluate_svm' is not defined",
     "output_type": "error",
     "traceback": [
      "\u001b[1;31m---------------------------------------------------------------------------\u001b[0m",
      "\u001b[1;31mNameError\u001b[0m                                 Traceback (most recent call last)",
      "Cell \u001b[1;32mIn[5], line 82\u001b[0m\n\u001b[0;32m     79\u001b[0m X_train_features \u001b[38;5;241m=\u001b[39m extract_features(feature_extractor, X_train_preprocessed)\n\u001b[0;32m     80\u001b[0m X_test_features \u001b[38;5;241m=\u001b[39m extract_features(feature_extractor, X_test_preprocessed)\n\u001b[1;32m---> 82\u001b[0m accuracy, f1 \u001b[38;5;241m=\u001b[39m \u001b[43mtrain_and_evaluate_svm\u001b[49m(X_train_features, y_train, X_test_features, y_test)\n\u001b[0;32m     84\u001b[0m \u001b[38;5;28mprint\u001b[39m(\u001b[38;5;124mf\u001b[39m\u001b[38;5;124m\"\u001b[39m\u001b[38;5;124mAccuracy: \u001b[39m\u001b[38;5;132;01m{\u001b[39;00maccuracy\u001b[38;5;132;01m}\u001b[39;00m\u001b[38;5;124m\"\u001b[39m)\n\u001b[0;32m     85\u001b[0m \u001b[38;5;28mprint\u001b[39m(\u001b[38;5;124mf\u001b[39m\u001b[38;5;124m\"\u001b[39m\u001b[38;5;124mF1 Score: \u001b[39m\u001b[38;5;132;01m{\u001b[39;00mf1\u001b[38;5;132;01m}\u001b[39;00m\u001b[38;5;124m\"\u001b[39m)\n",
      "\u001b[1;31mNameError\u001b[0m: name 'train_and_evaluate_svm' is not defined"
     ]
    }
   ],
   "source": [
    "import numpy as np\n",
    "import tensorflow as tf\n",
    "from tensorflow.keras.applications import VGG19\n",
    "from tensorflow.keras.applications.vgg19 import preprocess_input\n",
    "from tensorflow.keras.models import Model\n",
    "from sklearn.model_selection import train_test_split\n",
    "from sklearn.preprocessing import LabelEncoder\n",
    "from sklearn.svm import SVC\n",
    "from sklearn.metrics import accuracy_score, f1_score\n",
    "import os\n",
    "import matplotlib.pyplot as plt\n",
    "\n",
    "# ... (previous code) ...\n",
    "# Function to load images and labels\n",
    "def train_and_evaluate_svm(X_train, y_train, X_test, y_test):\n",
    "    svm = SVC(kernel='linear', C=1)\n",
    "    svm.fit(X_train, y_train)\n",
    "    \n",
    "    y_pred = svm.predict(X_test)\n",
    "    \n",
    "    accuracy = accuracy_score(y_test, y_pred)\n",
    "    f1 = f1_score(y_test, y_pred, average='weighted')\n",
    "    \n",
    "    return svm, accuracy, f1\n",
    "def load_images_and_labels(data_dir):\n",
    "    image_paths = []\n",
    "    labels = []\n",
    "\n",
    "    for label in os.listdir(data_dir):\n",
    "        label_dir = os.path.join(data_dir, label)\n",
    "        if os.path.isdir(label_dir):\n",
    "            for image_name in os.listdir(label_dir):\n",
    "                image_path = os.path.join(label_dir, image_name)\n",
    "                image_paths.append(image_path)\n",
    "                labels.append(label)\n",
    "\n",
    "    return image_paths, labels\n",
    "\n",
    "# Function to preprocess images\n",
    "def preprocess_images(image_paths, target_size=(224, 224)):\n",
    "    images = [tf.keras.preprocessing.image.load_img(image_path,\n",
    "                                                    target_size=target_size) for image_path in image_paths]\n",
    "    images = [tf.keras.preprocessing.image.img_to_array(image) for image in images]\n",
    "    images = np.array([preprocess_input(image) for image in images])\n",
    "    return images\n",
    "\n",
    "# Function to extract features\n",
    "def extract_features(feature_extractor, images):\n",
    "    features = feature_extractor.predict(images)\n",
    "    features = features.reshape(features.shape[0], -1)\n",
    "    \n",
    "    \n",
    "def visualize_preprocessing(original_image, preprocessed_image):\n",
    "    plt.figure(figsize=(8, 4))\n",
    "    plt.subplot(1, 2, 1)\n",
    "    plt.title(\"Original Image\")\n",
    "    original_array = tf.keras.preprocessing.image.img_to_array(original_image)\n",
    "    plt.imshow(original_array / 255.0)  # Convert to NumPy array and scale if necessary.\n",
    "    plt.axis('off')\n",
    "\n",
    "    plt.subplot(1, 2, 2)\n",
    "    plt.title(\"Preprocessed Image\")\n",
    "    plt.imshow(preprocessed_image[0])  # Assuming the preprocessed_image is a NumPy array.\n",
    "    plt.axis('off')\n",
    "\n",
    "    plt.show()\n",
    "\n",
    "\n",
    "if __name__ == \"__main__\":\n",
    "    data_dir = r\"C:\\Users\\shiva\\chest_xray_14\"\n",
    "    \n",
    "    image_paths, labels = load_images_and_labels(data_dir)\n",
    "    label_encoder = LabelEncoder()\n",
    "    labels = label_encoder.fit_transform(labels)\n",
    "\n",
    "    X_train, X_test, y_train, y_test = train_test_split(image_paths, labels, test_size=0.2, random_state=42)\n",
    "\n",
    "    X_train_preprocessed = preprocess_images(X_train)\n",
    "    X_test_preprocessed = preprocess_images(X_test)\n",
    "\n",
    "    # Visualize preprocessing for the first image in the training dataset\n",
    "    visualize_preprocessing(tf.keras.preprocessing.image.load_img(X_train[0], target_size=(224, 224)),\n",
    "                            X_train_preprocessed[0])\n",
    "\n",
    "    base_model = VGG19(weights='imagenet', include_top=False, input_shape=(224, 224, 3))\n",
    "    feature_extractor = Model(inputs=base_model.input, \n",
    "                              outputs=base_model.get_layer('block5_pool').output)\n",
    "\n",
    "    X_train_features = extract_features(feature_extractor, X_train_preprocessed)\n",
    "    X_test_features = extract_features(feature_extractor, X_test_preprocessed)\n",
    "\n",
    "    accuracy, f1 = train_and_evaluate_svm(X_train_features, y_train, X_test_features, y_test)\n",
    "\n",
    "    print(f\"Accuracy: {accuracy}\")\n",
    "    print(f\"F1 Score: {f1}\")\n",
    "  \n",
    "\n",
    "    # Add progress visualization here, for example:\n",
    "    import matplotlib.pyplot as plt\n",
    "    \n",
    "    plt.figure(figsize=(8, 6))\n",
    "    plt.plot([i for i in range(1, len(accuracy) + 1)], accuracy, label='Accuracy', marker='o')\n",
    "    plt.plot([i for i in range(1, len(f1) + 1)], f1, label='F1 Score', marker='o')\n",
    "    plt.xlabel('Epochs')\n",
    "    plt.ylabel('Score')\n",
    "    plt.title('Training Progress')\n",
    "    plt.legend()\n",
    "    plt.grid(True)\n",
    "    plt.show()\n"
   ]
  },
  {
   "cell_type": "code",
   "execution_count": 4,
   "id": "9ecad1e8",
   "metadata": {},
   "outputs": [
    {
     "ename": "ValueError",
     "evalue": "in user code:\n\n    File \"C:\\Users\\shiva\\anaconda3\\lib\\site-packages\\keras\\src\\engine\\training.py\", line 2341, in predict_function  *\n        return step_function(self, iterator)\n    File \"C:\\Users\\shiva\\anaconda3\\lib\\site-packages\\keras\\src\\engine\\training.py\", line 2327, in step_function  **\n        outputs = model.distribute_strategy.run(run_step, args=(data,))\n    File \"C:\\Users\\shiva\\anaconda3\\lib\\site-packages\\keras\\src\\engine\\training.py\", line 2315, in run_step  **\n        outputs = model.predict_step(data)\n    File \"C:\\Users\\shiva\\anaconda3\\lib\\site-packages\\keras\\src\\engine\\training.py\", line 2283, in predict_step\n        return self(x, training=False)\n    File \"C:\\Users\\shiva\\anaconda3\\lib\\site-packages\\keras\\src\\utils\\traceback_utils.py\", line 70, in error_handler\n        raise e.with_traceback(filtered_tb) from None\n    File \"C:\\Users\\shiva\\anaconda3\\lib\\site-packages\\keras\\src\\engine\\input_spec.py\", line 253, in assert_input_compatibility\n        raise ValueError(\n\n    ValueError: Exception encountered when calling layer 'model' (type Functional).\n    \n    Input 0 of layer \"block1_conv1\" is incompatible with the layer: expected min_ndim=4, found ndim=3. Full shape received: (None, 224, 224)\n    \n    Call arguments received by layer 'model' (type Functional):\n      • inputs=tf.Tensor(shape=(None, 224, 224), dtype=float32)\n      • training=False\n      • mask=None\n",
     "output_type": "error",
     "traceback": [
      "\u001b[1;31m---------------------------------------------------------------------------\u001b[0m",
      "\u001b[1;31mValueError\u001b[0m                                Traceback (most recent call last)",
      "Cell \u001b[1;32mIn[4], line 29\u001b[0m\n\u001b[0;32m     26\u001b[0m image_path \u001b[38;5;241m=\u001b[39m \u001b[38;5;124mr\u001b[39m\u001b[38;5;124m\"\u001b[39m\u001b[38;5;124mC:\u001b[39m\u001b[38;5;124m\\\u001b[39m\u001b[38;5;124mUsers\u001b[39m\u001b[38;5;124m\\\u001b[39m\u001b[38;5;124mshiva\u001b[39m\u001b[38;5;124m\\\u001b[39m\u001b[38;5;124mchest_xray\u001b[39m\u001b[38;5;124m\\\u001b[39m\u001b[38;5;124mval\u001b[39m\u001b[38;5;124m\\\u001b[39m\u001b[38;5;124mPNEUMONIA\u001b[39m\u001b[38;5;124m\\\u001b[39m\u001b[38;5;124mperson1947_bacteria_4876.jpeg\u001b[39m\u001b[38;5;124m\"\u001b[39m\n\u001b[0;32m     28\u001b[0m \u001b[38;5;66;03m# Make a prediction\u001b[39;00m\n\u001b[1;32m---> 29\u001b[0m prediction \u001b[38;5;241m=\u001b[39m \u001b[43mpreprocess_and_predict\u001b[49m\u001b[43m(\u001b[49m\u001b[43mimage_path\u001b[49m\u001b[43m)\u001b[49m\n\u001b[0;32m     31\u001b[0m \u001b[38;5;66;03m# Interpret the prediction\u001b[39;00m\n\u001b[0;32m     32\u001b[0m \u001b[38;5;28;01mif\u001b[39;00m prediction \u001b[38;5;241m==\u001b[39m \u001b[38;5;241m1\u001b[39m:\n",
      "Cell \u001b[1;32mIn[4], line 21\u001b[0m, in \u001b[0;36mpreprocess_and_predict\u001b[1;34m(image_path)\u001b[0m\n\u001b[0;32m     19\u001b[0m img \u001b[38;5;241m=\u001b[39m img\u001b[38;5;241m.\u001b[39mastype(\u001b[38;5;124m'\u001b[39m\u001b[38;5;124mfloat32\u001b[39m\u001b[38;5;124m'\u001b[39m)  \u001b[38;5;66;03m# Convert to float32\u001b[39;00m\n\u001b[0;32m     20\u001b[0m img \u001b[38;5;241m=\u001b[39m preprocess_input(img)\n\u001b[1;32m---> 21\u001b[0m features \u001b[38;5;241m=\u001b[39m \u001b[43mfeature_extractor\u001b[49m\u001b[38;5;241;43m.\u001b[39;49m\u001b[43mpredict\u001b[49m\u001b[43m(\u001b[49m\u001b[43mimg\u001b[49m\u001b[43m)\u001b[49m  \u001b[38;5;66;03m# No need to specify batch_size\u001b[39;00m\n\u001b[0;32m     22\u001b[0m prediction \u001b[38;5;241m=\u001b[39m svm_model\u001b[38;5;241m.\u001b[39mpredict(features)\n\u001b[0;32m     23\u001b[0m \u001b[38;5;28;01mreturn\u001b[39;00m prediction[\u001b[38;5;241m0\u001b[39m]\n",
      "File \u001b[1;32m~\\anaconda3\\lib\\site-packages\\keras\\src\\utils\\traceback_utils.py:70\u001b[0m, in \u001b[0;36mfilter_traceback.<locals>.error_handler\u001b[1;34m(*args, **kwargs)\u001b[0m\n\u001b[0;32m     67\u001b[0m     filtered_tb \u001b[38;5;241m=\u001b[39m _process_traceback_frames(e\u001b[38;5;241m.\u001b[39m__traceback__)\n\u001b[0;32m     68\u001b[0m     \u001b[38;5;66;03m# To get the full stack trace, call:\u001b[39;00m\n\u001b[0;32m     69\u001b[0m     \u001b[38;5;66;03m# `tf.debugging.disable_traceback_filtering()`\u001b[39;00m\n\u001b[1;32m---> 70\u001b[0m     \u001b[38;5;28;01mraise\u001b[39;00m e\u001b[38;5;241m.\u001b[39mwith_traceback(filtered_tb) \u001b[38;5;28;01mfrom\u001b[39;00m \u001b[38;5;28mNone\u001b[39m\n\u001b[0;32m     71\u001b[0m \u001b[38;5;28;01mfinally\u001b[39;00m:\n\u001b[0;32m     72\u001b[0m     \u001b[38;5;28;01mdel\u001b[39;00m filtered_tb\n",
      "File \u001b[1;32m~\\AppData\\Local\\Temp\\__autograph_generated_filepavafbqx.py:15\u001b[0m, in \u001b[0;36mouter_factory.<locals>.inner_factory.<locals>.tf__predict_function\u001b[1;34m(iterator)\u001b[0m\n\u001b[0;32m     13\u001b[0m \u001b[38;5;28;01mtry\u001b[39;00m:\n\u001b[0;32m     14\u001b[0m     do_return \u001b[38;5;241m=\u001b[39m \u001b[38;5;28;01mTrue\u001b[39;00m\n\u001b[1;32m---> 15\u001b[0m     retval_ \u001b[38;5;241m=\u001b[39m ag__\u001b[38;5;241m.\u001b[39mconverted_call(ag__\u001b[38;5;241m.\u001b[39mld(step_function), (ag__\u001b[38;5;241m.\u001b[39mld(\u001b[38;5;28mself\u001b[39m), ag__\u001b[38;5;241m.\u001b[39mld(iterator)), \u001b[38;5;28;01mNone\u001b[39;00m, fscope)\n\u001b[0;32m     16\u001b[0m \u001b[38;5;28;01mexcept\u001b[39;00m:\n\u001b[0;32m     17\u001b[0m     do_return \u001b[38;5;241m=\u001b[39m \u001b[38;5;28;01mFalse\u001b[39;00m\n",
      "\u001b[1;31mValueError\u001b[0m: in user code:\n\n    File \"C:\\Users\\shiva\\anaconda3\\lib\\site-packages\\keras\\src\\engine\\training.py\", line 2341, in predict_function  *\n        return step_function(self, iterator)\n    File \"C:\\Users\\shiva\\anaconda3\\lib\\site-packages\\keras\\src\\engine\\training.py\", line 2327, in step_function  **\n        outputs = model.distribute_strategy.run(run_step, args=(data,))\n    File \"C:\\Users\\shiva\\anaconda3\\lib\\site-packages\\keras\\src\\engine\\training.py\", line 2315, in run_step  **\n        outputs = model.predict_step(data)\n    File \"C:\\Users\\shiva\\anaconda3\\lib\\site-packages\\keras\\src\\engine\\training.py\", line 2283, in predict_step\n        return self(x, training=False)\n    File \"C:\\Users\\shiva\\anaconda3\\lib\\site-packages\\keras\\src\\utils\\traceback_utils.py\", line 70, in error_handler\n        raise e.with_traceback(filtered_tb) from None\n    File \"C:\\Users\\shiva\\anaconda3\\lib\\site-packages\\keras\\src\\engine\\input_spec.py\", line 253, in assert_input_compatibility\n        raise ValueError(\n\n    ValueError: Exception encountered when calling layer 'model' (type Functional).\n    \n    Input 0 of layer \"block1_conv1\" is incompatible with the layer: expected min_ndim=4, found ndim=3. Full shape received: (None, 224, 224)\n    \n    Call arguments received by layer 'model' (type Functional):\n      • inputs=tf.Tensor(shape=(None, 224, 224), dtype=float32)\n      • training=False\n      • mask=None\n"
     ]
    }
   ],
   "source": [
    "import numpy as np\n",
    "from tensorflow.keras.applications.vgg19 import preprocess_input\n",
    "import joblib\n",
    "from tensorflow.keras.models import load_model\n",
    "from PIL import Image\n",
    "\n",
    "# Load the SVM model\n",
    "svm_model = joblib.load('svm_model.pkl')\n",
    "\n",
    "# Load the VGG-19 feature extraction model\n",
    "feature_extractor = load_model('vgg19_feature_extractor.h5', compile=False)  # Add compile=False\n",
    "\n",
    "# Function to preprocess and predict\n",
    "def preprocess_and_predict(image_path):\n",
    "    img = Image.open(image_path)\n",
    "    img = img.resize((224, 224))  # Resize to VGG-19 input size\n",
    "    img = np.array(img)\n",
    "    img = img[np.newaxis, ...]  # Add a batch dimension\n",
    "    img = img.astype('float32')  # Convert to float32\n",
    "    img = preprocess_input(img)\n",
    "    features = feature_extractor.predict(img)  # No need to specify batch_size\n",
    "    prediction = svm_model.predict(features)\n",
    "    return prediction[0]\n",
    "\n",
    "# Path to the X-ray image you want to predict\n",
    "image_path = r\"C:\\Users\\shiva\\chest_xray\\val\\PNEUMONIA\\person1947_bacteria_4876.jpeg\"\n",
    "\n",
    "# Make a prediction\n",
    "prediction = preprocess_and_predict(image_path)\n",
    "\n",
    "# Interpret the prediction\n",
    "if prediction == 1:\n",
    "    print(\"Pneumonia detected\")\n",
    "else:\n",
    "    print(\"No pneumonia detected\")\n"
   ]
  },
  {
   "cell_type": "code",
   "execution_count": 5,
   "id": "9f9ad559",
   "metadata": {},
   "outputs": [
    {
     "name": "stdout",
     "output_type": "stream",
     "text": [
      "WARNING:tensorflow:No training configuration found in the save file, so the model was *not* compiled. Compile it manually.\n"
     ]
    }
   ],
   "source": [
    "import joblib\n",
    "from tensorflow.keras.models import load_model\n",
    "\n",
    "svm_model = joblib.load('svm_model.pkl')\n",
    "feature_extractor = load_model('vgg19_feature_extractor.h5')\n"
   ]
  },
  {
   "cell_type": "code",
   "execution_count": 7,
   "id": "fe5cfe93",
   "metadata": {},
   "outputs": [],
   "source": [
    "from tensorflow.keras.preprocessing import image\n",
    "import numpy as np\n",
    "\n",
    "image_path_to_predict =r\"C:\\Users\\shiva\\chest_xray\\val\\PNEUMONIA\\person1947_bacteria_4876.jpeg\"\n",
    " # Replace with the path to your image\n",
    "target_size = (224, 224)  # Should match the target size used during training\n",
    "\n",
    "img = image.load_img(image_path_to_predict, target_size=target_size)\n",
    "img = image.img_to_array(img)\n",
    "img = np.expand_dims(img, axis=0)\n",
    "img = preprocess_input(img)\n"
   ]
  },
  {
   "cell_type": "code",
   "execution_count": 8,
   "id": "d62d9247",
   "metadata": {},
   "outputs": [
    {
     "name": "stdout",
     "output_type": "stream",
     "text": [
      "1/1 [==============================] - 0s 376ms/step\n"
     ]
    }
   ],
   "source": [
    "features = feature_extractor.predict(img)\n",
    "features = features.reshape(1, -1)\n"
   ]
  },
  {
   "cell_type": "code",
   "execution_count": 9,
   "id": "719f9c5e",
   "metadata": {},
   "outputs": [],
   "source": [
    "predicted_label = svm_model.predict(features)\n"
   ]
  },
  {
   "cell_type": "code",
   "execution_count": 10,
   "id": "98c50052",
   "metadata": {},
   "outputs": [],
   "source": [
    "original_label = label_encoder.inverse_transform(predicted_label)\n"
   ]
  },
  {
   "cell_type": "code",
   "execution_count": 11,
   "id": "5771a19b",
   "metadata": {},
   "outputs": [
    {
     "name": "stdout",
     "output_type": "stream",
     "text": [
      "WARNING:tensorflow:No training configuration found in the save file, so the model was *not* compiled. Compile it manually.\n",
      "1/1 [==============================] - 0s 370ms/step\n",
      "Predicted Label: PNEUMONIA\n"
     ]
    }
   ],
   "source": [
    "import joblib\n",
    "from tensorflow.keras.models import load_model\n",
    "from tensorflow.keras.preprocessing import image\n",
    "import numpy as np\n",
    "\n",
    "# Load the SVM model and VGG-19 feature extraction model\n",
    "svm_model = joblib.load('svm_model.pkl')\n",
    "feature_extractor = load_model('vgg19_feature_extractor.h5')\n",
    "\n",
    "# Load and preprocess the image to predict\n",
    "image_path_to_predict = r\"C:\\Users\\shiva\\chest_xray\\val\\PNEUMONIA\\person1947_bacteria_4876.jpeg\"\n",
    "target_size = (224, 224)  # Should match the target size used during training\n",
    "\n",
    "img = image.load_img(image_path_to_predict, target_size=target_size)\n",
    "img = image.img_to_array(img)\n",
    "img = np.expand_dims(img, axis=0)\n",
    "img = preprocess_input(img)\n",
    "\n",
    "# Extract features from the preprocessed image\n",
    "features = feature_extractor.predict(img)\n",
    "features = features.reshape(1, -1)\n",
    "\n",
    "# Use the SVM model to make predictions\n",
    "predicted_label = svm_model.predict(features)\n",
    "\n",
    "# Map the predicted label to the original class label\n",
    "original_label = label_encoder.inverse_transform(predicted_label)\n",
    "\n",
    "# Print the predicted label\n",
    "print(f\"Predicted Label: {original_label[0]}\")\n"
   ]
  },
  {
   "cell_type": "code",
   "execution_count": 12,
   "id": "23d8ddab",
   "metadata": {},
   "outputs": [
    {
     "name": "stdout",
     "output_type": "stream",
     "text": [
      "WARNING:tensorflow:No training configuration found in the save file, so the model was *not* compiled. Compile it manually.\n",
      "1/1 [==============================] - 0s 238ms/step\n",
      "1/1 [==============================] - 0s 160ms/step\n",
      "1/1 [==============================] - 0s 142ms/step\n",
      "1/1 [==============================] - 0s 149ms/step\n",
      "1/1 [==============================] - 0s 153ms/step\n",
      "1/1 [==============================] - 0s 155ms/step\n",
      "1/1 [==============================] - 0s 149ms/step\n",
      "1/1 [==============================] - 0s 154ms/step\n",
      "1/1 [==============================] - 0s 147ms/step\n"
     ]
    }
   ],
   "source": [
    "import tkinter as tk\n",
    "from tkinter import filedialog\n",
    "from PIL import Image, ImageTk\n",
    "import joblib\n",
    "from tensorflow.keras.models import load_model\n",
    "from tensorflow.keras.preprocessing import image\n",
    "import numpy as np\n",
    "\n",
    "# Load the SVM model and VGG-19 feature extraction model\n",
    "svm_model = joblib.load('svm_model.pkl')\n",
    "feature_extractor = load_model('vgg19_feature_extractor.h5')\n",
    "\n",
    "# Create a function to predict an image\n",
    "def predict_image():\n",
    "    # Open a file dialog to select an image for prediction\n",
    "    file_path = filedialog.askopenfilename()\n",
    "    \n",
    "    if file_path:\n",
    "        # Load and preprocess the selected image\n",
    "        target_size = (224, 224)  # Should match the target size used during training\n",
    "        img = image.load_img(file_path, target_size=target_size)\n",
    "        img = image.img_to_array(img)\n",
    "        img = np.expand_dims(img, axis=0)\n",
    "        img = preprocess_input(img)\n",
    "        \n",
    "        # Extract features from the preprocessed image\n",
    "        features = feature_extractor.predict(img)\n",
    "        features = features.reshape(1, -1)\n",
    "        \n",
    "        # Use the SVM model to make predictions\n",
    "        predicted_label = svm_model.predict(features)\n",
    "        \n",
    "        # Map the predicted label to the original class label\n",
    "        original_label = label_encoder.inverse_transform(predicted_label)\n",
    "        \n",
    "        # Display the predicted label in the GUI\n",
    "        result_label.config(text=f\"Predicted Label: {original_label[0]}\")\n",
    "\n",
    "# Create the main application window\n",
    "app = tk.Tk()\n",
    "app.title(\"Image Prediction\")\n",
    "\n",
    "# Create a button to select an image for prediction\n",
    "browse_button = tk.Button(app, text=\"Browse\", command=predict_image)\n",
    "browse_button.pack(pady=10)\n",
    "\n",
    "# Create a label to display the predicted label\n",
    "result_label = tk.Label(app, text=\"\", font=(\"Helvetica\", 14))\n",
    "result_label.pack()\n",
    "\n",
    "# Run the GUI application\n",
    "app.mainloop()\n"
   ]
  },
  {
   "cell_type": "code",
   "execution_count": 13,
   "id": "a9124c83",
   "metadata": {},
   "outputs": [
    {
     "name": "stdout",
     "output_type": "stream",
     "text": [
      "WARNING:tensorflow:No training configuration found in the save file, so the model was *not* compiled. Compile it manually.\n",
      "1/1 [==============================] - 0s 246ms/step\n"
     ]
    },
    {
     "name": "stderr",
     "output_type": "stream",
     "text": [
      "C:\\Users\\shiva\\AppData\\Local\\Temp\\ipykernel_27256\\1781978818.py:45: DeprecationWarning: ANTIALIAS is deprecated and will be removed in Pillow 10 (2023-07-01). Use LANCZOS or Resampling.LANCZOS instead.\n",
      "  img = img.resize((200, 200), Image.ANTIALIAS)\n"
     ]
    },
    {
     "name": "stdout",
     "output_type": "stream",
     "text": [
      "1/1 [==============================] - 0s 150ms/step\n"
     ]
    },
    {
     "name": "stderr",
     "output_type": "stream",
     "text": [
      "C:\\Users\\shiva\\AppData\\Local\\Temp\\ipykernel_27256\\1781978818.py:45: DeprecationWarning: ANTIALIAS is deprecated and will be removed in Pillow 10 (2023-07-01). Use LANCZOS or Resampling.LANCZOS instead.\n",
      "  img = img.resize((200, 200), Image.ANTIALIAS)\n"
     ]
    },
    {
     "name": "stdout",
     "output_type": "stream",
     "text": [
      "1/1 [==============================] - 0s 158ms/step\n"
     ]
    },
    {
     "name": "stderr",
     "output_type": "stream",
     "text": [
      "C:\\Users\\shiva\\AppData\\Local\\Temp\\ipykernel_27256\\1781978818.py:45: DeprecationWarning: ANTIALIAS is deprecated and will be removed in Pillow 10 (2023-07-01). Use LANCZOS or Resampling.LANCZOS instead.\n",
      "  img = img.resize((200, 200), Image.ANTIALIAS)\n"
     ]
    },
    {
     "name": "stdout",
     "output_type": "stream",
     "text": [
      "1/1 [==============================] - 0s 160ms/step\n"
     ]
    },
    {
     "name": "stderr",
     "output_type": "stream",
     "text": [
      "C:\\Users\\shiva\\AppData\\Local\\Temp\\ipykernel_27256\\1781978818.py:45: DeprecationWarning: ANTIALIAS is deprecated and will be removed in Pillow 10 (2023-07-01). Use LANCZOS or Resampling.LANCZOS instead.\n",
      "  img = img.resize((200, 200), Image.ANTIALIAS)\n"
     ]
    },
    {
     "name": "stdout",
     "output_type": "stream",
     "text": [
      "1/1 [==============================] - 0s 149ms/step\n"
     ]
    },
    {
     "name": "stderr",
     "output_type": "stream",
     "text": [
      "C:\\Users\\shiva\\AppData\\Local\\Temp\\ipykernel_27256\\1781978818.py:45: DeprecationWarning: ANTIALIAS is deprecated and will be removed in Pillow 10 (2023-07-01). Use LANCZOS or Resampling.LANCZOS instead.\n",
      "  img = img.resize((200, 200), Image.ANTIALIAS)\n"
     ]
    }
   ],
   "source": [
    "import tkinter as tk\n",
    "from tkinter import filedialog\n",
    "from PIL import Image, ImageTk\n",
    "import joblib\n",
    "from tensorflow.keras.models import load_model\n",
    "from tensorflow.keras.preprocessing import image\n",
    "import numpy as np\n",
    "\n",
    "# Load the SVM model and VGG-19 feature extraction model\n",
    "svm_model = joblib.load('svm_model.pkl')\n",
    "feature_extractor = load_model('vgg19_feature_extractor.h5')\n",
    "\n",
    "# Create a function to predict an image\n",
    "def predict_image():\n",
    "    # Open a file dialog to select an image for prediction\n",
    "    file_path = filedialog.askopenfilename()\n",
    "    \n",
    "    if file_path:\n",
    "        # Load and preprocess the selected image\n",
    "        target_size = (224, 224)  # Should match the target size used during training\n",
    "        img = image.load_img(file_path, target_size=target_size)\n",
    "        img = image.img_to_array(img)\n",
    "        img = np.expand_dims(img, axis=0)\n",
    "        img = preprocess_input(img)\n",
    "        \n",
    "        # Extract features from the preprocessed image\n",
    "        features = feature_extractor.predict(img)\n",
    "        features = features.reshape(1, -1)\n",
    "        \n",
    "        # Use the SVM model to make predictions\n",
    "        predicted_label = svm_model.predict(features)\n",
    "        \n",
    "        # Map the predicted label to the original class label\n",
    "        original_label = label_encoder.inverse_transform(predicted_label)\n",
    "        \n",
    "        # Display the predicted label in the GUI\n",
    "        result_label.config(text=f\"Predicted Label: {original_label[0]}\")\n",
    "        \n",
    "        # Display the selected image in the GUI\n",
    "        display_image(file_path)\n",
    "\n",
    "# Create a function to display the selected image\n",
    "def display_image(file_path):\n",
    "    img = Image.open(file_path)\n",
    "    img = img.resize((200, 200), Image.ANTIALIAS)\n",
    "    img = ImageTk.PhotoImage(img)\n",
    "    img_label.config(image=img)\n",
    "    img_label.image = img\n",
    "\n",
    "# Create the main application window\n",
    "app = tk.Tk()\n",
    "app.title(\"Image Prediction\")\n",
    "\n",
    "# Create a label for the title\n",
    "title_label = tk.Label(app, text=\"Image Prediction\", font=(\"Helvetica\", 18))\n",
    "title_label.pack(pady=10)\n",
    "\n",
    "# Create a button to select an image for prediction\n",
    "browse_button = tk.Button(app, text=\"Browse\", command=predict_image)\n",
    "browse_button.pack()\n",
    "\n",
    "# Create a label to display the selected image\n",
    "img_label = tk.Label(app)\n",
    "img_label.pack()\n",
    "\n",
    "# Create a label to display the predicted label\n",
    "result_label = tk.Label(app, text=\"\", font=(\"Helvetica\", 14))\n",
    "result_label.pack()\n",
    "\n",
    "# Run the GUI application\n",
    "app.mainloop()\n"
   ]
  },
  {
   "cell_type": "code",
   "execution_count": 17,
   "id": "6f99a8fa",
   "metadata": {},
   "outputs": [
    {
     "name": "stdout",
     "output_type": "stream",
     "text": [
      "WARNING:tensorflow:No training configuration found in the save file, so the model was *not* compiled. Compile it manually.\n",
      "1/1 [==============================] - 0s 264ms/step\n"
     ]
    },
    {
     "name": "stderr",
     "output_type": "stream",
     "text": [
      "C:\\Users\\shiva\\AppData\\Local\\Temp\\ipykernel_27256\\388427471.py:45: DeprecationWarning: ANTIALIAS is deprecated and will be removed in Pillow 10 (2023-07-01). Use LANCZOS or Resampling.LANCZOS instead.\n",
      "  img = img.resize((200, 200), Image.ANTIALIAS)\n"
     ]
    }
   ],
   "source": [
    "import tkinter as tk\n",
    "from tkinter import ttk, filedialog\n",
    "from PIL import Image, ImageTk\n",
    "import joblib\n",
    "from tensorflow.keras.models import load_model\n",
    "from tensorflow.keras.preprocessing import image\n",
    "import numpy as np\n",
    "\n",
    "# Load the SVM model and VGG-19 feature extraction model\n",
    "svm_model = joblib.load('svm_model.pkl')\n",
    "feature_extractor = load_model('vgg19_feature_extractor.h5')\n",
    "\n",
    "# Create a function to predict an image\n",
    "def predict_image():\n",
    "    # Open a file dialog to select an image for prediction\n",
    "    file_path = filedialog.askopenfilename()\n",
    "    \n",
    "    if file_path:\n",
    "        # Load and preprocess the selected image\n",
    "        target_size = (224, 224)  # Should match the target size used during training\n",
    "        img = image.load_img(file_path, target_size=target_size)\n",
    "        img = image.img_to_array(img)\n",
    "        img = np.expand_dims(img, axis=0)\n",
    "        img = preprocess_input(img)\n",
    "        \n",
    "        # Extract features from the preprocessed image\n",
    "        features = feature_extractor.predict(img)\n",
    "        features = features.reshape(1, -1)  # Corrected 'reshape' here\n",
    "        \n",
    "        # Use the SVM model to make predictions\n",
    "        predicted_label = svm_model.predict(features)\n",
    "        \n",
    "        # Map the predicted label to the original class label\n",
    "        original_label = label_encoder.inverse_transform(predicted_label)\n",
    "        \n",
    "        # Display the predicted label in the GUI\n",
    "        result_label.config(text=f\"Predicted Label: {original_label[0]}\")\n",
    "        \n",
    "        # Display the selected image in the GUI\n",
    "        display_image(file_path)\n",
    "\n",
    "# Create a function to display the selected image\n",
    "def display_image(file_path):\n",
    "    img = Image.open(file_path)\n",
    "    img = img.resize((200, 200), Image.ANTIALIAS)\n",
    "    img = ImageTk.PhotoImage(img)\n",
    "    img_label.config(image=img)\n",
    "    img_label.image = img\n",
    "\n",
    "# Create the main application window\n",
    "app = tk.Tk()\n",
    "app.title(\"Image Prediction\")\n",
    "\n",
    "# Create a label for the title\n",
    "title_label = tk.Label(app, text=\"Image Prediction\", font=(\"Helvetica\", 18))\n",
    "title_label.pack(pady=10)\n",
    "\n",
    "# Create a button to select an image for prediction\n",
    "browse_button = ttk.Button(app, text=\"Browse\", command=predict_image)\n",
    "browse_button.pack()\n",
    "\n",
    "# Style the button\n",
    "style = ttk.Style()\n",
    "style.configure(\"TButton\", padding=6, relief=\"flat\")\n",
    "\n",
    "# Create a label to display the selected image\n",
    "img_label = tk.Label(app)\n",
    "img_label.pack()\n",
    "\n",
    "# Create a label to display the predicted label\n",
    "result_label = tk.Label(app, text=\"\", font=(\"Helvetica\", 14))\n",
    "result_label.pack()\n",
    "\n",
    "# Run the GUI application\n",
    "app.mainloop()\n"
   ]
  },
  {
   "cell_type": "code",
   "execution_count": null,
   "id": "be34ed46",
   "metadata": {},
   "outputs": [],
   "source": []
  }
 ],
 "metadata": {
  "kernelspec": {
   "display_name": "Python 3 (ipykernel)",
   "language": "python",
   "name": "python3"
  },
  "language_info": {
   "codemirror_mode": {
    "name": "ipython",
    "version": 3
   },
   "file_extension": ".py",
   "mimetype": "text/x-python",
   "name": "python",
   "nbconvert_exporter": "python",
   "pygments_lexer": "ipython3",
   "version": "3.10.9"
  }
 },
 "nbformat": 4,
 "nbformat_minor": 5
}
